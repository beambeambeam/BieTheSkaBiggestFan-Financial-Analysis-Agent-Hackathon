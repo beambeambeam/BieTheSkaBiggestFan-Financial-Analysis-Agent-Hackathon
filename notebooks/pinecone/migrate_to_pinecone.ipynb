{
  "cells": [
    {
      "cell_type": "code",
      "execution_count": 1,
      "metadata": {
        "colab": {
          "base_uri": "https://localhost:8080/"
        },
        "execution": {
          "iopub.execute_input": "2025-06-23T14:31:32.314852Z",
          "iopub.status.busy": "2025-06-23T14:31:32.314483Z",
          "iopub.status.idle": "2025-06-23T14:31:48.396760Z",
          "shell.execute_reply": "2025-06-23T14:31:48.395481Z",
          "shell.execute_reply.started": "2025-06-23T14:31:32.314826Z"
        },
        "id": "ZYxDHITMOX04",
        "outputId": "482c13b6-45fb-4404-dd66-979c9a4c1f35",
        "trusted": true
      },
      "outputs": [
        {
          "name": "stdout",
          "output_type": "stream",
          "text": [
            "\u001b[?25l   \u001b[90m━━━━━━━━━━━━━━━━━━━━━━━━━━━━━━━━━━━━━━━━\u001b[0m \u001b[32m0.0/524.3 kB\u001b[0m \u001b[31m?\u001b[0m eta \u001b[36m-:--:--\u001b[0m\r\u001b[2K   \u001b[91m━━━━━━━━━━━━━━━━━━━━━━━━━━━━━━━━━━━━━━━\u001b[0m\u001b[91m╸\u001b[0m \u001b[32m522.2/524.3 kB\u001b[0m \u001b[31m18.6 MB/s\u001b[0m eta \u001b[36m0:00:01\u001b[0m\r\u001b[2K   \u001b[90m━━━━━━━━━━━━━━━━━━━━━━━━━━━━━━━━━━━━━━━━\u001b[0m \u001b[32m524.3/524.3 kB\u001b[0m \u001b[31m12.8 MB/s\u001b[0m eta \u001b[36m0:00:00\u001b[0m\n",
            "\u001b[2K   \u001b[90m━━━━━━━━━━━━━━━━━━━━━━━━━━━━━━━━━━━━━━━━\u001b[0m \u001b[32m240.0/240.0 kB\u001b[0m \u001b[31m22.0 MB/s\u001b[0m eta \u001b[36m0:00:00\u001b[0m\n",
            "\u001b[2K   \u001b[90m━━━━━━━━━━━━━━━━━━━━━━━━━━━━━━━━━━━━━━━━\u001b[0m \u001b[32m69.0/69.0 kB\u001b[0m \u001b[31m5.2 MB/s\u001b[0m eta \u001b[36m0:00:00\u001b[0m\n",
            "\u001b[2K   \u001b[90m━━━━━━━━━━━━━━━━━━━━━━━━━━━━━━━━━━━━━━━━\u001b[0m \u001b[32m46.3/46.3 kB\u001b[0m \u001b[31m5.4 MB/s\u001b[0m eta \u001b[36m0:00:00\u001b[0m\n",
            "\u001b[2K   \u001b[90m━━━━━━━━━━━━━━━━━━━━━━━━━━━━━━━━━━━━━━━━\u001b[0m \u001b[32m52.2/52.2 kB\u001b[0m \u001b[31m6.0 MB/s\u001b[0m eta \u001b[36m0:00:00\u001b[0m\n",
            "\u001b[2K   \u001b[90m━━━━━━━━━━━━━━━━━━━━━━━━━━━━━━━━━━━━━━━━\u001b[0m \u001b[32m42.3/42.3 kB\u001b[0m \u001b[31m5.0 MB/s\u001b[0m eta \u001b[36m0:00:00\u001b[0m\n",
            "\u001b[2K   \u001b[90m━━━━━━━━━━━━━━━━━━━━━━━━━━━━━━━━━━━━━━━━\u001b[0m \u001b[32m44.3/44.3 kB\u001b[0m \u001b[31m5.3 MB/s\u001b[0m eta \u001b[36m0:00:00\u001b[0m\n",
            "\u001b[?25h"
          ]
        }
      ],
      "source": [
        "!pip install -q langchain_huggingface\n",
        "!pip install -q pinecone\n",
        "!pip install -q langchain_pinecone"
      ]
    },
    {
      "cell_type": "code",
      "execution_count": 1,
      "metadata": {
        "execution": {
          "iopub.execute_input": "2025-06-23T14:33:30.703671Z",
          "iopub.status.busy": "2025-06-23T14:33:30.702929Z",
          "iopub.status.idle": "2025-06-23T14:33:30.708703Z",
          "shell.execute_reply": "2025-06-23T14:33:30.707580Z",
          "shell.execute_reply.started": "2025-06-23T14:33:30.703640Z"
        },
        "id": "TnkI9FqzOX05",
        "trusted": true
      },
      "outputs": [],
      "source": [
        "from langchain_huggingface import HuggingFaceEmbeddings\n",
        "import getpass\n",
        "import os\n",
        "from pinecone import Pinecone\n",
        "from langchain_pinecone import PineconeVectorStore\n",
        "from pinecone import ServerlessSpec\n",
        "import pandas as pd\n",
        "from uuid import uuid4\n",
        "from langchain_core.documents import Document"
      ]
    },
    {
      "cell_type": "code",
      "execution_count": null,
      "metadata": {
        "execution": {
          "iopub.execute_input": "2025-06-23T14:26:56.517159Z",
          "iopub.status.busy": "2025-06-23T14:26:56.516603Z",
          "iopub.status.idle": "2025-06-23T14:27:06.240001Z",
          "shell.execute_reply": "2025-06-23T14:27:06.239151Z",
          "shell.execute_reply.started": "2025-06-23T14:26:56.517131Z"
        },
        "id": "UsYsg9NdOX06",
        "trusted": true
      },
      "outputs": [],
      "source": [
        "if not os.getenv(\"PINECONE_API_KEY\"):\n",
        "    os.environ[\"PINECONE_API_KEY\"] = \"\"\n",
        "\n",
        "pinecone_api_key = \"\""
      ]
    },
    {
      "cell_type": "code",
      "execution_count": 3,
      "metadata": {
        "execution": {
          "iopub.execute_input": "2025-06-23T14:27:56.397000Z",
          "iopub.status.busy": "2025-06-23T14:27:56.396710Z",
          "iopub.status.idle": "2025-06-23T14:27:56.402069Z",
          "shell.execute_reply": "2025-06-23T14:27:56.401087Z",
          "shell.execute_reply.started": "2025-06-23T14:27:56.396979Z"
        },
        "id": "omm9tUyQOX06",
        "trusted": true
      },
      "outputs": [],
      "source": [
        "pc = Pinecone(api_key=pinecone_api_key)"
      ]
    },
    {
      "cell_type": "code",
      "execution_count": 4,
      "metadata": {
        "_cell_guid": "b1076dfc-b9ad-4769-8c92-a6c4dae69d19",
        "_uuid": "8f2839f25d086af736a60e9eeb907d3b93b6e0e5",
        "execution": {
          "iopub.execute_input": "2025-06-23T14:28:06.702388Z",
          "iopub.status.busy": "2025-06-23T14:28:06.702092Z",
          "iopub.status.idle": "2025-06-23T14:28:58.848904Z",
          "shell.execute_reply": "2025-06-23T14:28:58.847619Z",
          "shell.execute_reply.started": "2025-06-23T14:28:06.702368Z"
        },
        "id": "QaPCrataOX07",
        "trusted": true
      },
      "outputs": [],
      "source": [
        "embeddings = HuggingFaceEmbeddings(model_name=\"Qwen/Qwen3-Embedding-0.6B\")"
      ]
    },
    {
      "cell_type": "code",
      "execution_count": 5,
      "metadata": {
        "execution": {
          "iopub.execute_input": "2025-06-23T14:35:05.519479Z",
          "iopub.status.busy": "2025-06-23T14:35:05.518355Z",
          "iopub.status.idle": "2025-06-23T14:35:18.375105Z",
          "shell.execute_reply": "2025-06-23T14:35:18.374042Z",
          "shell.execute_reply.started": "2025-06-23T14:35:05.519440Z"
        },
        "id": "qjkBOgg3OX07",
        "trusted": true
      },
      "outputs": [],
      "source": [
        "index_name = \"hackathon\"\n",
        "\n",
        "if not pc.has_index(index_name):\n",
        "    pc.create_index(\n",
        "        name=index_name,\n",
        "        dimension=1024,\n",
        "        metric=\"cosine\",\n",
        "        spec=ServerlessSpec(cloud=\"aws\", region=\"us-east-1\"),\n",
        "    )\n",
        "\n",
        "index = pc.Index(index_name)"
      ]
    },
    {
      "cell_type": "code",
      "execution_count": 6,
      "metadata": {
        "execution": {
          "iopub.execute_input": "2025-06-23T14:35:18.377091Z",
          "iopub.status.busy": "2025-06-23T14:35:18.376813Z",
          "iopub.status.idle": "2025-06-23T14:35:18.381832Z",
          "shell.execute_reply": "2025-06-23T14:35:18.380976Z",
          "shell.execute_reply.started": "2025-06-23T14:35:18.377068Z"
        },
        "id": "5-czvryUOX07",
        "trusted": true
      },
      "outputs": [],
      "source": [
        "vector_store = PineconeVectorStore(index=index, embedding=embeddings)"
      ]
    },
    {
      "cell_type": "code",
      "execution_count": null,
      "metadata": {
        "execution": {
          "iopub.execute_input": "2025-06-23T14:32:37.335252Z",
          "iopub.status.busy": "2025-06-23T14:32:37.334932Z",
          "iopub.status.idle": "2025-06-23T14:32:59.889649Z",
          "shell.execute_reply": "2025-06-23T14:32:59.888660Z",
          "shell.execute_reply.started": "2025-06-23T14:32:37.335227Z"
        },
        "id": "fwZlEIeXOX08",
        "trusted": true
      },
      "outputs": [],
      "source": [
        "df = pd.read_json(\n",
        "    \"hf://datasets/Josephgflowers/Finance-Instruct-500k/train.json\", lines=True\n",
        ")"
      ]
    },
    {
      "cell_type": "code",
      "execution_count": 8,
      "metadata": {
        "execution": {
          "iopub.execute_input": "2025-06-23T14:33:34.841557Z",
          "iopub.status.busy": "2025-06-23T14:33:34.841211Z",
          "iopub.status.idle": "2025-06-23T14:33:34.847113Z",
          "shell.execute_reply": "2025-06-23T14:33:34.845839Z",
          "shell.execute_reply.started": "2025-06-23T14:33:34.841533Z"
        },
        "id": "nGNUPdpIOX08",
        "trusted": true
      },
      "outputs": [],
      "source": [
        "docs = [\n",
        "    Document(page_content=f\"User: {row['user']}\\nAssistant: {row['assistant']}\")\n",
        "    for _, row in df.iterrows()\n",
        "]"
      ]
    },
    {
      "cell_type": "code",
      "execution_count": null,
      "metadata": {
        "colab": {
          "base_uri": "https://localhost:8080/"
        },
        "id": "lj2sMTcWO7ji",
        "outputId": "15d39a09-b553-49f8-cd4c-d038790c0c15"
      },
      "outputs": [
        {
          "name": "stderr",
          "output_type": "stream",
          "text": [
            "Uploading to Pinecone:  13%|█▎        | 3649/27733 [2:28:14<16:52:20,  2.52s/it]"
          ]
        }
      ],
      "source": [
        "from uuid import uuid4\n",
        "from tqdm import tqdm\n",
        "\n",
        "# Set a reasonable batch size\n",
        "BATCH_SIZE = 32  # you can tune this\n",
        "\n",
        "# Re-split using RecursiveCharacterTextSplitter\n",
        "from langchain.text_splitter import RecursiveCharacterTextSplitter\n",
        "\n",
        "splitter = RecursiveCharacterTextSplitter(chunk_size=1024, chunk_overlap=100)\n",
        "chunks = splitter.split_documents(docs)\n",
        "\n",
        "# Create matching UUIDs for each chunk\n",
        "uuids = [str(uuid4()) for _ in range(len(chunks))]\n",
        "\n",
        "# Add in batches\n",
        "for i in tqdm(range(0, len(chunks), BATCH_SIZE), desc=\"Uploading to Pinecone\"):\n",
        "    batch_chunks = chunks[i : i + BATCH_SIZE]\n",
        "    batch_ids = uuids[i : i + BATCH_SIZE]\n",
        "    vector_store.add_documents(documents=batch_chunks, ids=batch_ids)\n"
      ]
    }
  ],
  "metadata": {
    "accelerator": "GPU",
    "colab": {
      "gpuType": "L4",
      "provenance": []
    },
    "kaggle": {
      "accelerator": "none",
      "dataSources": [],
      "dockerImageVersionId": 31040,
      "isGpuEnabled": false,
      "isInternetEnabled": true,
      "language": "python",
      "sourceType": "notebook"
    },
    "kernelspec": {
      "display_name": "Python 3",
      "name": "python3"
    },
    "language_info": {
      "codemirror_mode": {
        "name": "ipython",
        "version": 3
      },
      "file_extension": ".py",
      "mimetype": "text/x-python",
      "name": "python",
      "nbconvert_exporter": "python",
      "pygments_lexer": "ipython3",
      "version": "3.11.11"
    }
  },
  "nbformat": 4,
  "nbformat_minor": 0
}
